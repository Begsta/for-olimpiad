{
 "cells": [
  {
   "cell_type": "code",
   "execution_count": 43,
   "id": "6b1ea3cd",
   "metadata": {},
   "outputs": [],
   "source": [
    "import pandas as pd\n",
    "import random "
   ]
  },
  {
   "cell_type": "markdown",
   "id": "cff58641",
   "metadata": {},
   "source": [
    "#### Загрузка дата фрейма"
   ]
  },
  {
   "cell_type": "code",
   "execution_count": 44,
   "id": "017d249b",
   "metadata": {},
   "outputs": [],
   "source": [
    "df_train = pd.read_csv('train_sec.csv')\n",
    "df_test = pd.read_csv('test_sec.csv')\n",
    "df_train.drop(columns='Unnamed: 0', axis=0, inplace=True)\n",
    "df_test.drop(columns='Unnamed: 0', axis=0, inplace=True)\n"
   ]
  },
  {
   "cell_type": "markdown",
   "id": "b1961169",
   "metadata": {},
   "source": [
    "#### Предварительная аналитика"
   ]
  },
  {
   "cell_type": "code",
   "execution_count": 45,
   "id": "41ffaa73",
   "metadata": {},
   "outputs": [
    {
     "data": {
      "text/plain": [
       "1    4288\n",
       "0    1712\n",
       "Name: target, dtype: int64"
      ]
     },
     "execution_count": 45,
     "metadata": {},
     "output_type": "execute_result"
    }
   ],
   "source": [
    "df_train['target'].value_counts()# количевство машеников и людей"
   ]
  },
  {
   "cell_type": "markdown",
   "id": "d6525814",
   "metadata": {},
   "source": [
    "Видим что в датасете гораздо больше мошенников, чем обычных людей. Значит, наш датасет плохо сбалансирован(учтём это для построении модели)."
   ]
  },
  {
   "cell_type": "code",
   "execution_count": 46,
   "id": "41373a73",
   "metadata": {},
   "outputs": [
    {
     "data": {
      "text/plain": [
       "time_1      11\n",
       "time_2      13\n",
       "time_3      12\n",
       "time_4      17\n",
       "time_5      12\n",
       "time_6       6\n",
       "time_7      10\n",
       "time_8      14\n",
       "time_9      14\n",
       "time_10      0\n",
       "site_1     738\n",
       "site_2     697\n",
       "site_3     741\n",
       "site_4     712\n",
       "site_5     738\n",
       "site_6     719\n",
       "site_7     691\n",
       "site_8     706\n",
       "site_9     713\n",
       "site_10    707\n",
       "target       0\n",
       "dtype: int64"
      ]
     },
     "execution_count": 46,
     "metadata": {},
     "output_type": "execute_result"
    }
   ],
   "source": [
    "df_train.isna().sum() # посчитали количевство NaN в каждой колонке\n"
   ]
  },
  {
   "cell_type": "markdown",
   "id": "80251d01",
   "metadata": {},
   "source": [
    "Видим, что пропущено очнь много данных про сайты и не так много про время пребывания на них."
   ]
  },
  {
   "cell_type": "code",
   "execution_count": 47,
   "id": "c903a859",
   "metadata": {},
   "outputs": [
    {
     "data": {
      "text/plain": [
       "0.719"
      ]
     },
     "execution_count": 47,
     "metadata": {},
     "output_type": "execute_result"
    }
   ],
   "source": [
    "(len(df_train) - len(df_train.dropna()))/len(df_train) "
   ]
  },
  {
   "cell_type": "markdown",
   "id": "1e07ab7b",
   "metadata": {},
   "source": [
    "Видим что примерно 70% строк содержат пропущенные значения. Это очень много, т.ч. удалять эти строки будет очень плохой идеей. Попробуем заполнить эти данные."
   ]
  },
  {
   "cell_type": "markdown",
   "id": "45a4e031",
   "metadata": {},
   "source": [
    "#### Избавление от NaN в дата фрейме"
   ]
  },
  {
   "cell_type": "code",
   "execution_count": 49,
   "id": "f236cbea",
   "metadata": {},
   "outputs": [],
   "source": [
    "import warnings\n",
    "import numpy as np\n",
    "warnings.filterwarnings('ignore')\n",
    "\n",
    "import pandas as pd\n",
    "df_train = pd.read_csv('train_sec.csv').drop(columns='Unnamed: 0')\n",
    "\n",
    "def replace_nan(df):\n",
    "    df = df.copy()\n",
    "    arr = [df[df['target'] == 0], df[df['target'] == 1]]\n",
    "    \n",
    "    #заменяем сайты\n",
    "    for target in [0, 1]: #берем отдельно злоумышленников и нет\n",
    "        for i in range(1, 11):\n",
    "            null_sites = arr[target][f'site_{i}'].isnull()\n",
    "            arr[target][f'site_{i}'][null_sites] = arr[target][f'site_{i}'].dropna().sample(null_sites.sum()).values\n",
    "\n",
    "    #заменяем время на сайтах\n",
    "    for target in [0, 1]:\n",
    "        for i in range(1, 11):\n",
    "            #составим словарь, где каждому сайту сопосотавим среднее время на нем\n",
    "            mean_time = arr[target].groupby([f'site_{i}'])[f'time_{i}'].agg('mean').reset_index()\n",
    "            mean_time = mean_time.set_index(f'site_{i}')\n",
    "            mean_time =  mean_time.to_dict()[f'time_{i}']\n",
    "            \n",
    "            #заменим время для каждой группы людей для каждого сайта на соответсвующее среднее\n",
    "            #(то есть для каждого отдельно сайта)\n",
    "            func = lambda row: mean_time[row[f'site_{i}']] if np.isnan(row[f'time_{i}']) else row[f'time_{i}']\n",
    "            arr[target][f'time_{i}'] = arr[target].apply(func, axis = 1)\n",
    "\n",
    "            \n",
    "    res = pd.concat(arr, axis=0).sample(frac=1).reset_index(drop=True)   \n",
    "    return res.dropna() #на всякий случай\n",
    "\n",
    "df_train = replace_nan(df_train)\n",
    "df_test = replace_nan(df_test)"
   ]
  },
  {
   "cell_type": "code",
   "execution_count": 51,
   "id": "d3ceca19",
   "metadata": {},
   "outputs": [
    {
     "data": {
      "text/plain": [
       "2.0    1432\n",
       "1.0    1310\n",
       "8.0     870\n",
       "4.0     683\n",
       "3.0     653\n",
       "7.0     621\n",
       "5.0     294\n",
       "6.0      79\n",
       "9.0      58\n",
       "Name: site_1, dtype: int64"
      ]
     },
     "execution_count": 51,
     "metadata": {},
     "output_type": "execute_result"
    }
   ],
   "source": [
    "df_train['site_1'].value_counts() # подсчёт количевства тех или иных вариантов"
   ]
  },
  {
   "cell_type": "code",
   "execution_count": null,
   "id": "8f8cd0df",
   "metadata": {},
   "outputs": [],
   "source": []
  }
 ],
 "metadata": {
  "kernelspec": {
   "display_name": "Python 3 (ipykernel)",
   "language": "python",
   "name": "python3"
  },
  "language_info": {
   "codemirror_mode": {
    "name": "ipython",
    "version": 3
   },
   "file_extension": ".py",
   "mimetype": "text/x-python",
   "name": "python",
   "nbconvert_exporter": "python",
   "pygments_lexer": "ipython3",
   "version": "3.11.2"
  }
 },
 "nbformat": 4,
 "nbformat_minor": 5
}
